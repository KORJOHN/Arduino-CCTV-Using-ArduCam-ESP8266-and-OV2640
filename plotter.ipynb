{
  "nbformat": 4,
  "nbformat_minor": 0,
  "metadata": {
    "colab": {
      "name": "plotter.ipynb",
      "provenance": [],
      "authorship_tag": "ABX9TyM0p7MhLDfCN1o7edkJd2LQ",
      "include_colab_link": true
    },
    "kernelspec": {
      "name": "python3",
      "display_name": "Python 3"
    },
    "language_info": {
      "name": "python"
    }
  },
  "cells": [
    {
      "cell_type": "markdown",
      "metadata": {
        "id": "view-in-github",
        "colab_type": "text"
      },
      "source": [
        "<a href=\"https://colab.research.google.com/github/KORJOHN/Arduino-CCTV-Using-ArduCam-ESP8266-and-OV2640/blob/master/plotter.ipynb\" target=\"_parent\"><img src=\"https://colab.research.google.com/assets/colab-badge.svg\" alt=\"Open In Colab\"/></a>"
      ]
    },
    {
      "cell_type": "code",
      "execution_count": null,
      "metadata": {
        "id": "38r-CmKAvzTr"
      },
      "outputs": [],
      "source": [
        "import pandas as pd \n",
        "import matplotlib.pyplot as plt\n",
        "\n",
        "import locale \n",
        "locale.setlocale(locale.LC_ALL, 'ko_KR.UTF-8')\n",
        "\n",
        "import platform\n",
        "if platform.system() == 'Darwin': #맥\n",
        "        plt.rc('font', family='AppleGothic') \n",
        "plt.rcParams['axes.unicode_minus'] = False #한글 폰트 사용시 마이너스 폰트 깨짐 해결\n",
        "\n",
        "df = pd.read_csv ('contract.csv', encoding='utf-8-sig')\n",
        "\n",
        "df.head(5)\n",
        "\n",
        "# %matplotlib inline\n",
        "# df[\"품목\"].plot()\n",
        "# print(df.groupby(\"User\")[\"Message\"].count().sort_values(ascending=False).to_string())\n",
        "print(df.groupby(\"계약건명(품명)\")[\"계약건명(품명)\"].count())"
      ]
    },
    {
      "cell_type": "code",
      "source": [
        "df = pd.read_csv ('contract.csv', encoding='utf-8-sig')\n",
        "\n",
        "# df.loc[:, ['품명', '실통화금액국가명']].value_counts()\n",
        "info = df.loc[(df['원산지'] != '대한민국')]\n",
        "\n",
        "# info = df.loc(df['원산지'] != '대한민국')\n",
        "\n",
        "del info['등록유형']\n",
        "del info['조달구분']\n",
        "del info['공고시스템명']\n",
        "del info['계약구분']\n",
        "del info['계약일자']\n",
        "del info['계약번호']\n",
        "del info['계약변경차수']\n",
        "del info['물품순번']\n",
        "del info['부물품순번']\n",
        "del info['최종계약여부']\n",
        "del info['수요기관명']\n",
        "del info['수요기관코드']\n",
        "del info['수요기관구분']\n",
        "del info['수요기관지역명']\n",
        "del info['계약건명(품명)']\n",
        "del info['계약법구분']\n",
        "del info['조항호코드']\n",
        "del info['조항호명']\n",
        "del info['계약방법']\n",
        "del info['물품분류번호']\n",
        "del info['세부물품분류번호']\n",
        "del info['세부품명']\n",
        "del info['물품식별번호']\n",
        "del info['품목']\n",
        "del info['단위']\n",
        "del info['수량']\n",
        "del info['증감수량']\n",
        "del info['실통화금액']\n",
        "del info['실통화금액코드명']\n",
        "del info['실통화금액국가명']\n",
        "del info['계약수량']\n",
        "del info['계약금액(USD)']\n",
        "del info['USD환율(BASIC)']\n",
        "del info['USD환율(TTS)']\n",
        "del info['실통화계약금액']\n",
        "del info['통화국코드']\n",
        "del info['통화국가명']\n",
        "del info['업체명']\n",
        "del info['업체사업자등록번호']\n",
        "del info['외자공급업체']\n",
        "del info['외자제작업체']\n",
        "del info['인도조건']\n",
        "del info['HSK번호']\n",
        "del info['최초계약금액(USD)']\n",
        "del info['조달요청번호']\n",
        "del info['입찰공고번호']\n",
        "del info['입찰공고차수']\n",
        "del info['낙찰자결정방법']\n",
        "del info['장기계속계약여부']\n",
        "del info['장기계약차수']\n",
        "del info ['업체기업구분명']\n",
        "del info['계약승인일자']\n",
        "\n",
        "pd.set_option('display.max_rows', None)\n",
        "\n",
        "# info.head(10000)\n",
        "\n",
        "# info['품명', '금액(USD)', '원산지'].sort_values()\n",
        "\n",
        "# 제품, 가격 내림차순 정렬된 것\n",
        "\n",
        "# info.sort_values(by = ['품명', '금액(USD)'], ascending = False, ignore_index = True)\n",
        "\n",
        "# 제품별 국가 수 카운트된 것\n",
        "\n",
        "# info.groupby(['품명', '원산지']).size().sort_values(ascending = False)\n",
        "\n",
        "# info['품명'].value_counts()"
      ],
      "metadata": {
        "id": "SmvB2viwzXH8"
      },
      "execution_count": null,
      "outputs": []
    },
    {
      "cell_type": "code",
      "source": [
        "import matplotlib.pyplot as plt\n",
        "import numpy as np\n",
        "\n",
        "# 질량분석기                    354\n",
        "# 액체크로마토그래프                138\n",
        "# 대기오염측정기                  125\n",
        "# 유도결합플라즈마(ICP)분광계          73\n",
        "# 기체크로마토그래프                 66\n",
        "\n",
        "\n",
        "labels = ['mass', 'liquid', 'air_polution', 'ICP', 'air_graph']\n",
        "USA_means = [354, 138, 125, 73, 66]\n",
        "KOREA_means = [25, 32, 34, 20, 25]\n",
        "\n",
        "x = np.arange(len(labels))  # the label locations\n",
        "width = 0.35  # the width of the bars\n",
        "\n",
        "fig, ax = plt.subplots()\n",
        "rects1 = ax.bar(x - width/2, USA_means, width, label='USA')\n",
        "rects2 = ax.bar(x + width/2, KOREA_means, width, label='KOREA')\n",
        "\n",
        "# Add some text for labels, title and custom x-axis tick labels, etc.\n",
        "ax.set_ylabel('Y_label')\n",
        "ax.set_title('Y_label by group and Country')\n",
        "ax.set_xticks(x, labels)\n",
        "ax.legend()\n",
        "\n",
        "ax.bar_label(rects1, padding=3)\n",
        "ax.bar_label(rects2, padding=3)\n",
        "\n",
        "fig.tight_layout()\n",
        "\n",
        "plt.show()"
      ],
      "metadata": {
        "colab": {
          "base_uri": "https://localhost:8080/",
          "height": 537
        },
        "id": "_-PoNG2QxXQu",
        "outputId": "5279db38-7760-45d6-e536-3456097ed46e"
      },
      "execution_count": 75,
      "outputs": [
        {
          "output_type": "stream",
          "name": "stderr",
          "text": [
            "/usr/local/lib/python3.7/dist-packages/ipykernel_launcher.py:25: MatplotlibDeprecationWarning: Passing the minor parameter of set_xticks() positionally is deprecated since Matplotlib 3.2; the parameter will become keyword-only two minor releases later.\n"
          ]
        },
        {
          "output_type": "error",
          "ename": "AttributeError",
          "evalue": "ignored",
          "traceback": [
            "\u001b[0;31m---------------------------------------------------------------------------\u001b[0m",
            "\u001b[0;31mAttributeError\u001b[0m                            Traceback (most recent call last)",
            "\u001b[0;32m<ipython-input-75-0174565dfbe7>\u001b[0m in \u001b[0;36m<module>\u001b[0;34m()\u001b[0m\n\u001b[1;32m     26\u001b[0m \u001b[0max\u001b[0m\u001b[0;34m.\u001b[0m\u001b[0mlegend\u001b[0m\u001b[0;34m(\u001b[0m\u001b[0;34m)\u001b[0m\u001b[0;34m\u001b[0m\u001b[0;34m\u001b[0m\u001b[0m\n\u001b[1;32m     27\u001b[0m \u001b[0;34m\u001b[0m\u001b[0m\n\u001b[0;32m---> 28\u001b[0;31m \u001b[0max\u001b[0m\u001b[0;34m.\u001b[0m\u001b[0mbar_label\u001b[0m\u001b[0;34m(\u001b[0m\u001b[0mrects1\u001b[0m\u001b[0;34m,\u001b[0m \u001b[0mpadding\u001b[0m\u001b[0;34m=\u001b[0m\u001b[0;36m3\u001b[0m\u001b[0;34m)\u001b[0m\u001b[0;34m\u001b[0m\u001b[0;34m\u001b[0m\u001b[0m\n\u001b[0m\u001b[1;32m     29\u001b[0m \u001b[0max\u001b[0m\u001b[0;34m.\u001b[0m\u001b[0mbar_label\u001b[0m\u001b[0;34m(\u001b[0m\u001b[0mrects2\u001b[0m\u001b[0;34m,\u001b[0m \u001b[0mpadding\u001b[0m\u001b[0;34m=\u001b[0m\u001b[0;36m3\u001b[0m\u001b[0;34m)\u001b[0m\u001b[0;34m\u001b[0m\u001b[0;34m\u001b[0m\u001b[0m\n\u001b[1;32m     30\u001b[0m \u001b[0;34m\u001b[0m\u001b[0m\n",
            "\u001b[0;31mAttributeError\u001b[0m: 'AxesSubplot' object has no attribute 'bar_label'"
          ]
        },
        {
          "output_type": "display_data",
          "data": {
            "image/png": "[encoded data removed]",
            "text/plain": [
              "<Figure size 432x288 with 1 Axes>"
            ]
          },
          "metadata": {
            "needs_background": "light"
          }
        }
      ]
    }
  ]
}